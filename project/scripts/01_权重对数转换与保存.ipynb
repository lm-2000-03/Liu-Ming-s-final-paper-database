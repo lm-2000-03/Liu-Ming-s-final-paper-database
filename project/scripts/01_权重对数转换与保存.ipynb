{
 "cells": [
  {
   "cell_type": "code",
   "execution_count": 4,
   "metadata": {},
   "outputs": [
    {
     "name": "stdout",
     "output_type": "stream",
     "text": [
      "✅ 权重表格处理完成，已保存为：region_weights.csv 和 scenario_weights.csv\n"
     ]
    }
   ],
   "source": [
    "import pandas as pd\n",
    "import numpy as np\n",
    "\n",
    "# 读取 Excel 文件\n",
    "df = pd.read_excel(\"权重打分表.xlsx\", index_col=0)\n",
    "\n",
    "# 区域权重（第1-5列），情景权重（第6-8列）\n",
    "region_weights = df.iloc[:, 0:5].copy()\n",
    "scenario_weights = df.iloc[:, 5:8].copy()\n",
    "\n",
    "# ✅ 对数处理函数（对所有值做 log 放大，增强差异）\n",
    "def log_transform(df_raw):\n",
    "    # 将数据转换为浮点型\n",
    "    df_num = df_raw.apply(pd.to_numeric, errors='coerce')\n",
    "    # 避免 log(0) 报错，加一个小常数（如1e-6）\n",
    "    df_log = np.log10(df_num + 1e-6)\n",
    "    # 统一正值处理（可再归一化）\n",
    "    df_log = df_log - df_log.min()  # 平移使最小值为0\n",
    "    return df_log\n",
    "\n",
    "# ✅ 处理并格式化列名\n",
    "region_transformed = log_transform(region_weights)\n",
    "scenario_transformed = log_transform(scenario_weights)\n",
    "\n",
    "# ✅ 设置你想要的列名\n",
    "region_transformed.columns = [\n",
    "    \"Airport New City Regional Weight\",\n",
    "    \"Fengdong New City Regional Weight\",\n",
    "    \"Qinhan New City Regional Weight\",\n",
    "    \"Fengxi New City Regional Weight\",\n",
    "    \"Jinghe New City Regional Weight\"\n",
    "]\n",
    "\n",
    "scenario_transformed.columns = [\n",
    "    \"Ecological Scenario Weight\",\n",
    "    \"Social Scenario Weight\",\n",
    "    \"Economic Scenario Weight\"\n",
    "]\n",
    "\n",
    "# ✅ 保存结果\n",
    "region_transformed.to_csv(\"region_weights.csv\", encoding=\"utf-8-sig\")\n",
    "scenario_transformed.to_csv(\"scenario_weights.csv\", encoding=\"utf-8-sig\")\n",
    "\n",
    "print(\"✅ 权重表格处理完成，已保存为：region_weights.csv 和 scenario_weights.csv\")\n"
   ]
  }
 ],
 "metadata": {
  "kernelspec": {
   "display_name": "Python 3",
   "language": "python",
   "name": "python3"
  },
  "language_info": {
   "codemirror_mode": {
    "name": "ipython",
    "version": 3
   },
   "file_extension": ".py",
   "mimetype": "text/x-python",
   "name": "python",
   "nbconvert_exporter": "python",
   "pygments_lexer": "ipython3",
   "version": "3.12.6"
  }
 },
 "nbformat": 4,
 "nbformat_minor": 2
}
